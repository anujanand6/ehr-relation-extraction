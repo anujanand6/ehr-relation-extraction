{
 "cells": [
  {
   "cell_type": "code",
   "execution_count": 1,
   "metadata": {},
   "outputs": [],
   "source": [
    "import os\n",
    "import annotations\n",
    "from annotations import Entity, Relation\n",
    "import utils\n",
    "import warnings"
   ]
  },
  {
   "cell_type": "code",
   "execution_count": 2,
   "metadata": {},
   "outputs": [],
   "source": [
    "DATA_DIR = 'data/'"
   ]
  },
  {
   "cell_type": "code",
   "execution_count": 3,
   "metadata": {},
   "outputs": [],
   "source": [
    "files = os.listdir('data/')\n",
    "file_ids = list(set(['.'.join(name.split('.')[:-1]) for name in files]))"
   ]
  },
  {
   "cell_type": "code",
   "execution_count": 4,
   "metadata": {},
   "outputs": [],
   "source": [
    "def get_annotations(file_id):\n",
    "    f = open(DATA_DIR + file_id + '.ann')\n",
    "    raw_data = f.read().split('\\n')\n",
    "    f.close()\n",
    "    \n",
    "    entities = {}\n",
    "    relations = {}\n",
    "    \n",
    "    relation_backlog = []    # Relations with entities that haven't been processed yet\n",
    "    \n",
    "    for line in raw_data:\n",
    "        line = line.split('\\t')\n",
    "        line = list(filter(None, line))   # Remove empty strings from list\n",
    "        \n",
    "        if not line or not line[0]:\n",
    "            continue\n",
    "        \n",
    "        if line[0][0] == 'T':\n",
    "            assert len(line) == 3\n",
    "            \n",
    "            # Find the end of first word, which is the entity type\n",
    "            for idx in range(len(line[1])):\n",
    "                if line[1][idx] == ' ':\n",
    "                    break\n",
    "            \n",
    "            # Create an Entity object\n",
    "            ent = Entity(entity_id = line[0], entity_type = line[1][:idx])\n",
    "            char_ranges = line[1][idx + 1:]\n",
    "            \n",
    "            # Get all character ranges, separated by ;\n",
    "            char_ranges = char_ranges.split(';')\n",
    "            for r in char_ranges:\n",
    "                r = r.split(' ')\n",
    "                r = list(map(int, r))\n",
    "                ent.add_range(r)\n",
    "                \n",
    "            ent.set_text(line[2])\n",
    "            entities[line[0]] = ent\n",
    "        \n",
    "        elif line[0][0] == 'R':\n",
    "            \n",
    "            assert len(line) == 2\n",
    "            \n",
    "            rel_details = line[1].split(' ')\n",
    "            entity1 = rel_details[1].split(':')[-1]\n",
    "            entity2 = rel_details[2].split(':')[-1]\n",
    "            \n",
    "            if entity1 in entities and entity2 in entities:\n",
    "                rel = Relation(relation_id = line[0], relation_type = rel_details[0], \n",
    "                               arg1 = entities[entity1], arg2 = entities[entity2])\n",
    "                \n",
    "                relations[line[0]] = rel\n",
    "            else:\n",
    "                # If the entities aren't processed yet, add them to backlog to process later\n",
    "                relation_backlog.append([line[0], rel_details[0], entity1, entity2])\n",
    "        \n",
    "        else:\n",
    "            # If the annotation is not a relation or entity, warn user\n",
    "            warnings.warn(\"Invalid annotation encountered: \" + str(line))\n",
    "    \n",
    "    for r in relation_backlog:\n",
    "        rel = Relation(relation_id = r[0], relation_type = r[1], \n",
    "                       arg1 = entities[r[2]], arg2 = entities[r[3]])\n",
    "        \n",
    "        relations[r[0]] = rel\n",
    "        \n",
    "    return {\"entities\": entities, \"relations\": relations}"
   ]
  },
  {
   "cell_type": "code",
   "execution_count": 5,
   "metadata": {},
   "outputs": [],
   "source": [
    "sample_ann = get_annotations(file_ids[0])"
   ]
  },
  {
   "cell_type": "code",
   "execution_count": 7,
   "metadata": {},
   "outputs": [
    {
     "data": {
      "text/plain": [
       "\n",
       "ID: T1\n",
       "Entity name: Drug\n",
       "Character ranges: 111 120\n",
       "Entity text: Pronestyl"
      ]
     },
     "execution_count": 7,
     "metadata": {},
     "output_type": "execute_result"
    }
   ],
   "source": [
    "sample_ann['entities']['T1']"
   ]
  },
  {
   "cell_type": "code",
   "execution_count": 8,
   "metadata": {},
   "outputs": [
    {
     "data": {
      "text/plain": [
       "\n",
       "ID: R1\n",
       "Relation type: Reason-Drug\n",
       "\n",
       "Entity 1: \n",
       "\n",
       "ID: T10\n",
       "Entity name: Reason\n",
       "Character ranges: 2809 2817\n",
       "Entity text: diuresis\n",
       "\n",
       "Entity 2: \n",
       "\n",
       "ID: T11\n",
       "Entity name: Drug\n",
       "Character ranges: 2861 2866\n",
       "Entity text: Lasix"
      ]
     },
     "execution_count": 8,
     "metadata": {},
     "output_type": "execute_result"
    }
   ],
   "source": [
    "sample_ann['relations']['R1']"
   ]
  },
  {
   "cell_type": "code",
   "execution_count": 9,
   "metadata": {},
   "outputs": [
    {
     "name": "stdout",
     "output_type": "stream",
     "text": [
      "Progress: [===============>    ] 237/303"
     ]
    },
    {
     "name": "stderr",
     "output_type": "stream",
     "text": [
      "<ipython-input-4-bef74bd2bb60>:59: UserWarning: Invalid annotation encountered: ['#1', 'AnnotatorNotes T35', 'likely a med that got mistook for a name']\n",
      "  warnings.warn(\"Invalid annotation encountered: \" + str(line))\n",
      "<ipython-input-4-bef74bd2bb60>:59: UserWarning: Invalid annotation encountered: ['#1', 'AnnotatorNotes T178', 'drug name changed out in error']\n",
      "  warnings.warn(\"Invalid annotation encountered: \" + str(line))\n"
     ]
    },
    {
     "name": "stdout",
     "output_type": "stream",
     "text": [
      "Progress: [====================] 303/303"
     ]
    }
   ],
   "source": [
    "tags = []\n",
    "\n",
    "for idx in range(len(file_ids)):\n",
    "    tags.append(get_annotations(file_ids[idx]))\n",
    "    utils.drawProgressBar(idx + 1, len(file_ids))"
   ]
  },
  {
   "cell_type": "code",
   "execution_count": 10,
   "metadata": {},
   "outputs": [
    {
     "name": "stdout",
     "output_type": "stream",
     "text": [
      "Variable successfully saved in processed_data/tags.pkl\n"
     ]
    }
   ],
   "source": [
    "utils.save_pickle('processed_data/tags', tags)"
   ]
  }
 ],
 "metadata": {
  "kernelspec": {
   "display_name": "Python 3",
   "language": "python",
   "name": "python3"
  },
  "language_info": {
   "codemirror_mode": {
    "name": "ipython",
    "version": 3
   },
   "file_extension": ".py",
   "mimetype": "text/x-python",
   "name": "python",
   "nbconvert_exporter": "python",
   "pygments_lexer": "ipython3",
   "version": "3.8.3"
  }
 },
 "nbformat": 4,
 "nbformat_minor": 4
}
