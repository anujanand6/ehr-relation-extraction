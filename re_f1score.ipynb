{
 "cells": [
  {
   "cell_type": "code",
   "execution_count": 1,
   "metadata": {},
   "outputs": [],
   "source": [
    "import pandas as pd\n",
    "import pickle\n",
    "import annotations\n",
    "\n",
    "from sklearn.metrics import classification_report"
   ]
  },
  {
   "cell_type": "code",
   "execution_count": null,
   "metadata": {},
   "outputs": [],
   "source": [
    "PREDS_PATH = \"test_pred_sample.tsv\"\n",
    "ACTUALS_PATH = \"test_rel_labels.pkl\""
   ]
  },
  {
   "cell_type": "code",
   "execution_count": 2,
   "metadata": {},
   "outputs": [],
   "source": [
    "preds_df = pd.read_csv(PREDS_PATH, sep='\\t')\n",
    "with (open(ACTUALS_PATH, \"rb\")) as openfile:\n",
    "    actual_dicts = pickle.load(openfile)\n",
    "\n",
    "# Since the preds only had 16 sample, we take 16 actual labels only\n",
    "actual_dicts = actual_dicts[:16]"
   ]
  },
  {
   "cell_type": "code",
   "execution_count": 3,
   "metadata": {},
   "outputs": [],
   "source": [
    "def convert_actual_labels(actual_dicts):\n",
    "    df = pd.DataFrame(columns=[\"index\", \"label\", \"relation\"])\n",
    "    for i, actual_dict in enumerate(actual_dicts):\n",
    "        df = df.append(\n",
    "            {\n",
    "                \"index\": i,\n",
    "                \"label\": actual_dict['label'],\n",
    "                \"relation\": actual_dict['relation'].name\n",
    "            },\n",
    "            ignore_index=True\n",
    "        )\n",
    "    return df\n",
    "\n",
    "def gen_classification_reports(df):\n",
    "    print(\"-\"*55)\n",
    "    print(\"Overall Classification Report\")\n",
    "    print(\n",
    "        classification_report(\n",
    "            df.label_actual.astype(int),\n",
    "            df.label_predicted.astype(int)\n",
    "        )\n",
    "    )\n",
    "    \n",
    "    for relation in df.relation.unique():\n",
    "        sub_df = df[df.relation==relation]\n",
    "        print(\"-\"*55)\n",
    "        print(\"Classification Report for {} Relation\".format(relation))\n",
    "        print(\n",
    "            classification_report(\n",
    "                sub_df.label_actual.astype(int),\n",
    "                sub_df.label_predicted.astype(int)\n",
    "            )\n",
    "        )\n",
    "    print(\"-\"*55)"
   ]
  },
  {
   "cell_type": "code",
   "execution_count": 4,
   "metadata": {},
   "outputs": [],
   "source": [
    "actual_df = convert_actual_labels(actual_dicts)"
   ]
  },
  {
   "cell_type": "code",
   "execution_count": 5,
   "metadata": {},
   "outputs": [],
   "source": [
    "final_df = actual_df.merge(preds_df, how=\"left\", on=\"index\", suffixes=(\"_actual\", \"_predicted\"))"
   ]
  },
  {
   "cell_type": "code",
   "execution_count": 6,
   "metadata": {},
   "outputs": [
    {
     "name": "stdout",
     "output_type": "stream",
     "text": [
      "-------------------------------------------------------\n",
      "Overall Classification Report\n",
      "              precision    recall  f1-score   support\n",
      "\n",
      "           0       0.75      0.75      0.75         4\n",
      "           1       0.92      0.92      0.92        12\n",
      "\n",
      "    accuracy                           0.88        16\n",
      "   macro avg       0.83      0.83      0.83        16\n",
      "weighted avg       0.88      0.88      0.88        16\n",
      "\n",
      "-------------------------------------------------------\n",
      "Classification Report for Dosage-Drug Relation\n",
      "              precision    recall  f1-score   support\n",
      "\n",
      "           0       1.00      1.00      1.00         1\n",
      "           1       1.00      1.00      1.00         2\n",
      "\n",
      "    accuracy                           1.00         3\n",
      "   macro avg       1.00      1.00      1.00         3\n",
      "weighted avg       1.00      1.00      1.00         3\n",
      "\n",
      "-------------------------------------------------------\n",
      "Classification Report for Form-Drug Relation\n",
      "              precision    recall  f1-score   support\n",
      "\n",
      "           1       1.00      1.00      1.00         3\n",
      "\n",
      "    accuracy                           1.00         3\n",
      "   macro avg       1.00      1.00      1.00         3\n",
      "weighted avg       1.00      1.00      1.00         3\n",
      "\n",
      "-------------------------------------------------------\n",
      "Classification Report for Strength-Drug Relation\n",
      "              precision    recall  f1-score   support\n",
      "\n",
      "           0       0.50      0.50      0.50         2\n",
      "           1       0.67      0.67      0.67         3\n",
      "\n",
      "    accuracy                           0.60         5\n",
      "   macro avg       0.58      0.58      0.58         5\n",
      "weighted avg       0.60      0.60      0.60         5\n",
      "\n",
      "-------------------------------------------------------\n",
      "Classification Report for Route-Drug Relation\n",
      "              precision    recall  f1-score   support\n",
      "\n",
      "           1       1.00      1.00      1.00         2\n",
      "\n",
      "    accuracy                           1.00         2\n",
      "   macro avg       1.00      1.00      1.00         2\n",
      "weighted avg       1.00      1.00      1.00         2\n",
      "\n",
      "-------------------------------------------------------\n",
      "Classification Report for Frequency-Drug Relation\n",
      "              precision    recall  f1-score   support\n",
      "\n",
      "           0       1.00      1.00      1.00         1\n",
      "           1       1.00      1.00      1.00         2\n",
      "\n",
      "    accuracy                           1.00         3\n",
      "   macro avg       1.00      1.00      1.00         3\n",
      "weighted avg       1.00      1.00      1.00         3\n",
      "\n",
      "-------------------------------------------------------\n"
     ]
    }
   ],
   "source": [
    "gen_classification_reports(final_df)"
   ]
  },
  {
   "cell_type": "code",
   "execution_count": null,
   "metadata": {},
   "outputs": [],
   "source": [
    "# def numerical_relations(relations):\n",
    "#     relation_idx={relation: i for i, relation in enumerate(relations.unique(), 1)}\n",
    "#     return relation_idx\n",
    "#\n",
    "# def generate_multilabels(df):\n",
    "#     df[\"multi_label_actual\"] = df['relation'].mask(\n",
    "#         final_df['label_actual'].apply(lambda x: False if x==1 else True)\n",
    "#     ).fillna(0)\n",
    "#     df[\"multi_label_predicted\"] = df['relation'].mask(\n",
    "#         final_df['label_predicted'].apply(lambda x: False if x==1 else True)\n",
    "#     ).fillna(0)\n",
    "#     return df"
   ]
  }
 ],
 "metadata": {
  "kernelspec": {
   "display_name": "Python 3",
   "language": "python",
   "name": "python3"
  },
  "language_info": {
   "codemirror_mode": {
    "name": "ipython",
    "version": 3
   },
   "file_extension": ".py",
   "mimetype": "text/x-python",
   "name": "python",
   "nbconvert_exporter": "python",
   "pygments_lexer": "ipython3",
   "version": "3.8.0"
  }
 },
 "nbformat": 4,
 "nbformat_minor": 4
}
