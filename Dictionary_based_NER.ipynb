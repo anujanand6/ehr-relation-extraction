{
 "cells": [
  {
   "cell_type": "code",
   "execution_count": 1,
   "metadata": {},
   "outputs": [],
   "source": [
    "from ehr import HealthRecord\n",
    "from ner_models import DictNER\n",
    "\n",
    "import random\n",
    "import os\n",
    "\n",
    "# Seed for reproducibility\n",
    "random.seed(0)"
   ]
  },
  {
   "cell_type": "code",
   "execution_count": 2,
   "metadata": {},
   "outputs": [],
   "source": [
    "DATA_DIR = \"data/\"\n",
    "TRAIN_RATIO = 0.8"
   ]
  },
  {
   "cell_type": "code",
   "execution_count": 3,
   "metadata": {},
   "outputs": [],
   "source": [
    "# Get all the IDs for training data\n",
    "file_ids = sorted(list(set(['.'.join(fname.split('.')[:-1]) for fname in os.listdir(DATA_DIR)])))"
   ]
  },
  {
   "cell_type": "code",
   "execution_count": 4,
   "metadata": {},
   "outputs": [
    {
     "data": {
      "text/plain": [
       "(242, 61)"
      ]
     },
     "execution_count": 4,
     "metadata": {},
     "output_type": "execute_result"
    }
   ],
   "source": [
    "# Splitting IDs into random training and test data\n",
    "random.shuffle(file_ids)\n",
    "\n",
    "split_idx = int(TRAIN_RATIO * len(file_ids)) \n",
    "train_ids = file_ids[:split_idx]\n",
    "test_ids = file_ids[split_idx:]\n",
    "\n",
    "len(train_ids), len(test_ids)"
   ]
  },
  {
   "cell_type": "code",
   "execution_count": 5,
   "metadata": {},
   "outputs": [
    {
     "name": "stderr",
     "output_type": "stream",
     "text": [
      "/home/smit/Projects/ehr-relation-extraction/ehr.py:163: UserWarning: Invalid annotation encountered: ['#1', 'AnnotatorNotes T178', 'drug name changed out in error']\n",
      "  warnings.warn(\"Invalid annotation encountered: \" + str(line))\n",
      "/home/smit/Projects/ehr-relation-extraction/ehr.py:163: UserWarning: Invalid annotation encountered: ['#1', 'AnnotatorNotes T35', 'likely a med that got mistook for a name']\n",
      "  warnings.warn(\"Invalid annotation encountered: \" + str(line))\n"
     ]
    }
   ],
   "source": [
    "train_data = []\n",
    "for fid in train_ids:\n",
    "    record = HealthRecord(fid, text_path = DATA_DIR + fid + '.txt', \n",
    "                          ann_path = DATA_DIR + fid + '.ann')\n",
    "    train_data.append(record)"
   ]
  },
  {
   "cell_type": "code",
   "execution_count": 6,
   "metadata": {},
   "outputs": [],
   "source": [
    "test_data = []\n",
    "for fid in test_ids:\n",
    "    record = HealthRecord(fid, text_path = DATA_DIR + fid + '.txt', \n",
    "                          ann_path = DATA_DIR + fid + '.ann')\n",
    "    test_data.append(record)"
   ]
  },
  {
   "cell_type": "code",
   "execution_count": 7,
   "metadata": {},
   "outputs": [
    {
     "data": {
      "text/plain": [
       "<ner_models.DictNER at 0x7f26f0122790>"
      ]
     },
     "execution_count": 7,
     "metadata": {},
     "output_type": "execute_result"
    }
   ],
   "source": [
    "dict_ner = DictNER()\n",
    "dict_ner.fit(train_data)"
   ]
  },
  {
   "cell_type": "code",
   "execution_count": 8,
   "metadata": {},
   "outputs": [],
   "source": [
    "test_preds = dict_ner.predict(test_data)"
   ]
  },
  {
   "cell_type": "code",
   "execution_count": null,
   "metadata": {},
   "outputs": [],
   "source": []
  },
  {
   "cell_type": "code",
   "execution_count": null,
   "metadata": {},
   "outputs": [],
   "source": []
  }
 ],
 "metadata": {
  "kernelspec": {
   "display_name": "Python 3",
   "language": "python",
   "name": "python3"
  },
  "language_info": {
   "codemirror_mode": {
    "name": "ipython",
    "version": 3
   },
   "file_extension": ".py",
   "mimetype": "text/x-python",
   "name": "python",
   "nbconvert_exporter": "python",
   "pygments_lexer": "ipython3",
   "version": "3.8.3"
  }
 },
 "nbformat": 4,
 "nbformat_minor": 4
}
